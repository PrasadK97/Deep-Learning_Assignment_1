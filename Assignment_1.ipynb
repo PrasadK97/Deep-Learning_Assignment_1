{
  "nbformat": 4,
  "nbformat_minor": 0,
  "metadata": {
    "colab": {
      "provenance": [],
      "toc_visible": true,
      "authorship_tag": "ABX9TyPzeWS290dRgCbb/cO/aDZX",
      "include_colab_link": true
    },
    "kernelspec": {
      "name": "python3",
      "display_name": "Python 3"
    },
    "language_info": {
      "name": "python"
    }
  },
  "cells": [
    {
      "cell_type": "markdown",
      "metadata": {
        "id": "view-in-github",
        "colab_type": "text"
      },
      "source": [
        "<a href=\"https://colab.research.google.com/github/PrasadK97/Deep-Learning_Assignment_1/blob/main/Assignment_1.ipynb\" target=\"_parent\"><img src=\"https://colab.research.google.com/assets/colab-badge.svg\" alt=\"Open In Colab\"/></a>"
      ]
    },
    {
      "cell_type": "code",
      "execution_count": 5,
      "metadata": {
        "id": "rVe0vA-kCB2L"
      },
      "outputs": [],
      "source": [
        "import numpy as np\n",
        "import pandas as pd\n"
      ]
    },
    {
      "cell_type": "markdown",
      "source": [
        "# **AM21S007**"
      ],
      "metadata": {
        "id": "rT4pbDLRYzDY"
      }
    },
    {
      "cell_type": "markdown",
      "source": [
        "# Question 1 [2 marks]"
      ],
      "metadata": {
        "id": "kISkiRg8OOto"
      }
    },
    {
      "cell_type": "code",
      "source": [
        "from keras.datasets import fashion_mnist"
      ],
      "metadata": {
        "id": "DMQo4bbTCIUN"
      },
      "execution_count": 6,
      "outputs": []
    },
    {
      "cell_type": "code",
      "source": [
        "(train_X,train_Y),(test_X,test_Y) = fashion_mnist.load_data()"
      ],
      "metadata": {
        "id": "-dZpNUQgRQ4v",
        "colab": {
          "base_uri": "https://localhost:8080/"
        },
        "outputId": "a083beda-9765-4bce-ae4f-69973166299e"
      },
      "execution_count": 7,
      "outputs": [
        {
          "output_type": "stream",
          "name": "stdout",
          "text": [
            "Downloading data from https://storage.googleapis.com/tensorflow/tf-keras-datasets/train-labels-idx1-ubyte.gz\n",
            "29515/29515 [==============================] - 0s 0us/step\n",
            "Downloading data from https://storage.googleapis.com/tensorflow/tf-keras-datasets/train-images-idx3-ubyte.gz\n",
            "26421880/26421880 [==============================] - 0s 0us/step\n",
            "Downloading data from https://storage.googleapis.com/tensorflow/tf-keras-datasets/t10k-labels-idx1-ubyte.gz\n",
            "5148/5148 [==============================] - 0s 0us/step\n",
            "Downloading data from https://storage.googleapis.com/tensorflow/tf-keras-datasets/t10k-images-idx3-ubyte.gz\n",
            "4422102/4422102 [==============================] - 0s 0us/step\n"
          ]
        }
      ]
    },
    {
      "cell_type": "code",
      "source": [
        "type(train_X)"
      ],
      "metadata": {
        "id": "xSO2bEtERQ6-",
        "colab": {
          "base_uri": "https://localhost:8080/"
        },
        "outputId": "fa696835-8de9-4368-a750-f8c198e1de9c"
      },
      "execution_count": null,
      "outputs": [
        {
          "output_type": "execute_result",
          "data": {
            "text/plain": [
              "numpy.ndarray"
            ]
          },
          "metadata": {},
          "execution_count": 4
        }
      ]
    },
    {
      "cell_type": "code",
      "source": [
        "train_X.shape # i.e. it contains 60000 samples of 28x28 image which are our input"
      ],
      "metadata": {
        "id": "HAm0EQ5IRQ9T",
        "colab": {
          "base_uri": "https://localhost:8080/"
        },
        "outputId": "7a84f6bf-8cae-47a9-dea7-66456e7d205e"
      },
      "execution_count": null,
      "outputs": [
        {
          "output_type": "execute_result",
          "data": {
            "text/plain": [
              "(60000, 28, 28)"
            ]
          },
          "metadata": {},
          "execution_count": 5
        }
      ]
    },
    {
      "cell_type": "code",
      "source": [
        "train_Y  # output label contain value ranging from 0 to 9 with each no. corresponding to one type of picture"
      ],
      "metadata": {
        "id": "Cm45yJtJRQ_T",
        "colab": {
          "base_uri": "https://localhost:8080/"
        },
        "outputId": "7829ea27-a97b-4142-fd99-b8f2f123a165"
      },
      "execution_count": null,
      "outputs": [
        {
          "output_type": "execute_result",
          "data": {
            "text/plain": [
              "array([9, 0, 0, ..., 3, 0, 5], dtype=uint8)"
            ]
          },
          "metadata": {},
          "execution_count": 7
        }
      ]
    },
    {
      "cell_type": "code",
      "source": [
        "#max(train_X[1][1])"
      ],
      "metadata": {
        "colab": {
          "base_uri": "https://localhost:8080/"
        },
        "id": "Jq9IqPCpnjEz",
        "outputId": "a48d1bdf-1c17-4dff-c705-28997bec1a7d"
      },
      "execution_count": null,
      "outputs": [
        {
          "output_type": "execute_result",
          "data": {
            "text/plain": [
              "255"
            ]
          },
          "metadata": {},
          "execution_count": 24
        }
      ]
    },
    {
      "cell_type": "code",
      "source": [
        "import matplotlib.pyplot as plt"
      ],
      "metadata": {
        "id": "mYDAIiK6RRBf"
      },
      "execution_count": 21,
      "outputs": []
    },
    {
      "cell_type": "markdown",
      "source": [
        "Showcasing one of the input sample which is a 28 x 28 image"
      ],
      "metadata": {
        "id": "AQKEx2YCUs2Y"
      }
    },
    {
      "cell_type": "code",
      "source": [
        "plt.imshow(train_X[10])  "
      ],
      "metadata": {
        "id": "weFalT1SRRDt",
        "colab": {
          "base_uri": "https://localhost:8080/",
          "height": 282
        },
        "outputId": "76cb6c00-22dc-4ffb-bcf7-9732da585ac4"
      },
      "execution_count": null,
      "outputs": [
        {
          "output_type": "execute_result",
          "data": {
            "text/plain": [
              "<matplotlib.image.AxesImage at 0x7ff25a4fa520>"
            ]
          },
          "metadata": {},
          "execution_count": 9
        },
        {
          "output_type": "display_data",
          "data": {
            "text/plain": [
              "<Figure size 432x288 with 1 Axes>"
            ],
            "image/png": "[encoded data removed]"
          },
          "metadata": {
            "needs_background": "light"
          }
        }
      ]
    },
    {
      "cell_type": "markdown",
      "source": [
        "While depicting image of our each of the class we need the class name of our image\n",
        "\n",
        "Here its a fashion data, so we will create a dictionary with class name for each of our label  "
      ],
      "metadata": {
        "id": "SXFhRmPzU638"
      }
    },
    {
      "cell_type": "code",
      "source": [
        "label = {0: 'T-shirt/top' ,1: 'Trouser',2: 'Pullover',3: 'Dress',4: 'Coat',5 :'Sandal',6 :'Shirt',7 :'Sneaker',8 :'Bag',9 :'Ankle boot'}"
      ],
      "metadata": {
        "id": "qTaFyD_uRRGK"
      },
      "execution_count": null,
      "outputs": []
    },
    {
      "cell_type": "code",
      "source": [],
      "metadata": {
        "id": "1LdXglGYRRId",
        "colab": {
          "base_uri": "https://localhost:8080/",
          "height": 34
        },
        "outputId": "0ab777cf-409a-4433-b50b-11c24281dc89"
      },
      "execution_count": null,
      "outputs": [
        {
          "output_type": "display_data",
          "data": {
            "text/plain": [
              "<Figure size 1080x432 with 0 Axes>"
            ]
          },
          "metadata": {}
        }
      ]
    },
    {
      "cell_type": "code",
      "source": [
        "fig = plt.figure()\n",
        "fig.set_figheight(6)\n",
        "fig.set_figwidth(15)\n",
        "\n",
        "rows,columns = 2,5\n",
        "for i in range(0,10):   #  this loop will traverse through the labels\n",
        "  for j in range(len(train_X)):    # this loop will traverse through the data\n",
        "\n",
        "    if (train_Y[j] == i):\n",
        "\n",
        "      fig.add_subplot(rows,columns, (i+1) )\n",
        "\n",
        "      plt.imshow(train_X[j])\n",
        "      plt.axis('off')\n",
        "      plt.title('{}'.format(label[i]))\n",
        "      #print(j, train_Y[j])\n",
        "      break"
      ],
      "metadata": {
        "id": "faxDFAiBRRKo",
        "colab": {
          "base_uri": "https://localhost:8080/",
          "height": 369
        },
        "outputId": "05c9938f-4d15-4097-fbd5-94d6ca701e78"
      },
      "execution_count": null,
      "outputs": [
        {
          "output_type": "display_data",
          "data": {
            "text/plain": [
              "<Figure size 1080x432 with 10 Axes>"
            ],
            "image/png": "[encoded data removed]"
          },
          "metadata": {
            "needs_background": "light"
          }
        }
      ]
    },
    {
      "cell_type": "code",
      "source": [],
      "metadata": {
        "id": "j5fcEOOPRRMl"
      },
      "execution_count": null,
      "outputs": []
    },
    {
      "cell_type": "code",
      "source": [],
      "metadata": {
        "id": "ObEYMIHDRRPC"
      },
      "execution_count": null,
      "outputs": []
    },
    {
      "cell_type": "code",
      "source": [],
      "metadata": {
        "id": "VYYmrBngRRRA"
      },
      "execution_count": null,
      "outputs": []
    },
    {
      "cell_type": "code",
      "source": [],
      "metadata": {
        "id": "XvtLYgBCRRTP"
      },
      "execution_count": null,
      "outputs": []
    },
    {
      "cell_type": "code",
      "source": [],
      "metadata": {
        "id": "8sDu2WtLRRa2"
      },
      "execution_count": null,
      "outputs": []
    },
    {
      "cell_type": "markdown",
      "source": [
        "# Question 2"
      ],
      "metadata": {
        "id": "9NLRI0tCRBm5"
      }
    },
    {
      "cell_type": "code",
      "source": [],
      "metadata": {
        "id": "XLvHScKNaiys"
      },
      "execution_count": 29,
      "outputs": []
    },
    {
      "cell_type": "code",
      "source": [
        "train_X.shape"
      ],
      "metadata": {
        "colab": {
          "base_uri": "https://localhost:8080/"
        },
        "id": "TBnM-KV7ai0m",
        "outputId": "17bd3569-757a-43c1-c9ed-810c119bb00a"
      },
      "execution_count": null,
      "outputs": [
        {
          "output_type": "execute_result",
          "data": {
            "text/plain": [
              "(60000, 28, 28)"
            ]
          },
          "metadata": {},
          "execution_count": 30
        }
      ]
    },
    {
      "cell_type": "code",
      "source": [],
      "metadata": {
        "id": "lcX-JwZWteS9"
      },
      "execution_count": null,
      "outputs": []
    },
    {
      "cell_type": "code",
      "source": [],
      "metadata": {
        "id": "IeUMmy7BteU7"
      },
      "execution_count": null,
      "outputs": []
    },
    {
      "cell_type": "code",
      "source": [],
      "metadata": {
        "id": "D_dwZOnSteXL"
      },
      "execution_count": 29,
      "outputs": []
    },
    {
      "cell_type": "code",
      "source": [
        "\n",
        "from keras.utils import to_categorical\n",
        "\n",
        "\n",
        "\n"
      ],
      "metadata": {
        "id": "42t6sIyPykb6"
      },
      "execution_count": 59,
      "outputs": []
    },
    {
      "cell_type": "code",
      "source": [
        "train_X.shape"
      ],
      "metadata": {
        "colab": {
          "base_uri": "https://localhost:8080/"
        },
        "id": "ttuuOjPOykdq",
        "outputId": "d4f2323b-0c9e-43d3-ffef-712f3173d0e2"
      },
      "execution_count": 60,
      "outputs": [
        {
          "output_type": "execute_result",
          "data": {
            "text/plain": [
              "(60000, 28, 28)"
            ]
          },
          "metadata": {},
          "execution_count": 60
        }
      ]
    },
    {
      "cell_type": "code",
      "source": [
        "# Flatten the images\n",
        "train_X = train_X.reshape((60000, 28 * 28))\n",
        "\n",
        "\n"
      ],
      "metadata": {
        "id": "-NXsb2q8ykf_"
      },
      "execution_count": 62,
      "outputs": []
    },
    {
      "cell_type": "code",
      "source": [
        "train_X.shape"
      ],
      "metadata": {
        "colab": {
          "base_uri": "https://localhost:8080/"
        },
        "id": "iZUtY3rwy6Oa",
        "outputId": "9c772e8a-49dd-400a-ab96-b29a83396b45"
      },
      "execution_count": 63,
      "outputs": [
        {
          "output_type": "execute_result",
          "data": {
            "text/plain": [
              "(60000, 784)"
            ]
          },
          "metadata": {},
          "execution_count": 63
        }
      ]
    },
    {
      "cell_type": "code",
      "source": [
        "train_X = train_X.astype('float32') / 255"
      ],
      "metadata": {
        "id": "qNSfrNI3ykiP"
      },
      "execution_count": 64,
      "outputs": []
    },
    {
      "cell_type": "code",
      "source": [
        "max(train_X[1])"
      ],
      "metadata": {
        "colab": {
          "base_uri": "https://localhost:8080/"
        },
        "id": "pq1zHybpy-hw",
        "outputId": "7a6b75e6-cfeb-479a-f93d-675a3f25c0cf"
      },
      "execution_count": 65,
      "outputs": [
        {
          "output_type": "execute_result",
          "data": {
            "text/plain": [
              "1.0"
            ]
          },
          "metadata": {},
          "execution_count": 65
        }
      ]
    },
    {
      "cell_type": "code",
      "source": [
        "test_X = test_X.reshape((10000, 28 * 28))\n",
        "test_X = test_X.astype('float32') / 255\n",
        "\n"
      ],
      "metadata": {
        "id": "ND6zMv-YykkS"
      },
      "execution_count": 66,
      "outputs": []
    },
    {
      "cell_type": "code",
      "source": [
        "# Categorical encoding of labels\n",
        "train_Y = to_categorical(train_Y)\n",
        "test_Y = to_categorical(test_Y)"
      ],
      "metadata": {
        "id": "cvY_pErCykmS"
      },
      "execution_count": 67,
      "outputs": []
    },
    {
      "cell_type": "code",
      "source": [
        "train_Y[0]"
      ],
      "metadata": {
        "colab": {
          "base_uri": "https://localhost:8080/"
        },
        "id": "zAowXQKrykoP",
        "outputId": "5f203841-4345-4d47-a907-cca80d3c8162"
      },
      "execution_count": 68,
      "outputs": [
        {
          "output_type": "execute_result",
          "data": {
            "text/plain": [
              "array([0., 0., 0., 0., 0., 0., 0., 0., 0., 1.], dtype=float32)"
            ]
          },
          "metadata": {},
          "execution_count": 68
        }
      ]
    },
    {
      "cell_type": "code",
      "source": [],
      "metadata": {
        "id": "gSoJCcLfykqZ"
      },
      "execution_count": null,
      "outputs": []
    },
    {
      "cell_type": "code",
      "source": [
        "plt.imshow(train_X[0].reshape(28,28))"
      ],
      "metadata": {
        "colab": {
          "base_uri": "https://localhost:8080/",
          "height": 282
        },
        "id": "DPuagcmbyksV",
        "outputId": "bc757e18-fb89-422c-b5e7-2c1a40a23f3b"
      },
      "execution_count": 70,
      "outputs": [
        {
          "output_type": "execute_result",
          "data": {
            "text/plain": [
              "<matplotlib.image.AxesImage at 0x7f83aece5c40>"
            ]
          },
          "metadata": {},
          "execution_count": 70
        },
        {
          "output_type": "display_data",
          "data": {
            "text/plain": [
              "<Figure size 432x288 with 1 Axes>"
            ],
            "image/png": "[encoded data removed]"
          },
          "metadata": {
            "needs_background": "light"
          }
        }
      ]
    },
    {
      "cell_type": "code",
      "source": [],
      "metadata": {
        "id": "4FhAxDgNyku6"
      },
      "execution_count": null,
      "outputs": []
    },
    {
      "cell_type": "code",
      "source": [],
      "metadata": {
        "id": "UID-jIRVykxE"
      },
      "execution_count": null,
      "outputs": []
    },
    {
      "cell_type": "code",
      "source": [],
      "metadata": {
        "id": "itA2XtBzykzh"
      },
      "execution_count": null,
      "outputs": []
    },
    {
      "cell_type": "markdown",
      "source": [
        "# Question 3"
      ],
      "metadata": {
        "id": "pIzL3KmwRCik"
      }
    },
    {
      "cell_type": "markdown",
      "source": [
        "# Question 4"
      ],
      "metadata": {
        "id": "L5SJunnaRDCF"
      }
    },
    {
      "cell_type": "code",
      "source": [],
      "metadata": {
        "id": "jvwgvOx-RMsa"
      },
      "execution_count": null,
      "outputs": []
    }
  ]
}